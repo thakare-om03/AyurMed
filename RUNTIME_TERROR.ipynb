{
  "cells": [
    {
      "cell_type": "markdown",
      "metadata": {
        "id": "view-in-github",
        "colab_type": "text"
      },
      "source": [
        "<a href=\"https://colab.research.google.com/github/thakare-om03/AyurMed/blob/main/RUNTIME_TERROR.ipynb\" target=\"_parent\"><img src=\"https://colab.research.google.com/assets/colab-badge.svg\" alt=\"Open In Colab\"/></a>"
      ]
    },
    {
      "cell_type": "markdown",
      "source": [
        "# **IMPORT NECESSARY LIBRARIES**"
      ],
      "metadata": {
        "id": "NCq6lMrNKFCx"
      },
      "id": "NCq6lMrNKFCx"
    },
    {
      "cell_type": "code",
      "source": [
        "import pandas as pd\n",
        "from sklearn.preprocessing import LabelEncoder\n",
        "from xgboost import XGBClassifier\n",
        "import matplotlib.pyplot as plt\n",
        "import sys\n",
        "sys.path.append('/path/to/data_preprocessing')"
      ],
      "metadata": {
        "id": "6mY8iprbKLHl"
      },
      "id": "6mY8iprbKLHl",
      "execution_count": null,
      "outputs": []
    },
    {
      "cell_type": "markdown",
      "source": [
        "# **DEFINE** **FUNCTIONS**"
      ],
      "metadata": {
        "id": "Ju5SqJ8lKOJx"
      },
      "id": "Ju5SqJ8lKOJx"
    },
    {
      "cell_type": "code",
      "source": [
        "def load_and_preprocess_data(\"/content/sample_data/AyurMed.csv\"):\n",
        "    data = pd.read_csv(\"/content/sample_data/AyurMed.csv\")\n",
        "    inputs = data.drop(['symptoms','remedy type'],axis=1)\n",
        "    target = inputs['Cure']\n",
        "    inputs = inputs.drop(columns=['Disease', 'gender', 'diabetic', 'age', 'prakruti','remedies','Cure'])\n",
        "\n",
        "    label_encoders = {}\n",
        "    for column in ['Disease', 'gender', 'diabetic', 'prakruti', 'remedies', 'age']:\n",
        "        le = LabelEncoder()\n",
        "        le.fit(data[column])\n",
        "        inputs[column] = le.transform(data[column])\n",
        "        label_encoders[column] = le\n",
        "\n",
        "    return inputs, target, label_encoders\n",
        "\n",
        "def train_model(inputs, target):\n",
        "    model = XGBClassifier(\n",
        "        objective=\"multi:softmax\",\n",
        "        num_classes=len(target.unique()),\n",
        "        max_depth=None,\n",
        "        learning_rate=0.1,\n",
        "        n_estimators=50\n",
        "    )\n",
        "    model.fit(inputs, target)\n",
        "    return model\n",
        "\n",
        "def predict(model, new_data, label_encoders):\n",
        "    for column in ['Disease', 'gender', 'diabetic', 'prakruti', 'age']:\n",
        "        new_data[column] = label_encoders[column].transform(new_data[column])\n",
        "    prediction = model.predict(new_data)\n",
        "    remedy = label_encoders['remedies'].inverse_transform(prediction)\n",
        "    return remedy\n",
        "\n",
        "def plot_feature_importance(model):\n",
        "    plt.figure(figsize=(12, 6))\n",
        "    plt.title(\"Feature importance\")\n",
        "    plt.barh(inputs.columns, model.feature_importances_)\n",
        "    plt.show()"
      ],
      "metadata": {
        "colab": {
          "base_uri": "https://localhost:8080/",
          "height": 110
        },
        "id": "Yd8I7uKBKVqC",
        "outputId": "e9abb061-b55e-40e6-b379-ecc4518b2a10"
      },
      "id": "Yd8I7uKBKVqC",
      "execution_count": null,
      "outputs": [
        {
          "output_type": "error",
          "ename": "SyntaxError",
          "evalue": "invalid syntax (<ipython-input-15-2747423f2a0e>, line 1)",
          "traceback": [
            "\u001b[0;36m  File \u001b[0;32m\"<ipython-input-15-2747423f2a0e>\"\u001b[0;36m, line \u001b[0;32m1\u001b[0m\n\u001b[0;31m    def load_and_preprocess_data(\"/content/sample_data/AyurMed.csv\"):\u001b[0m\n\u001b[0m                                 ^\u001b[0m\n\u001b[0;31mSyntaxError\u001b[0m\u001b[0;31m:\u001b[0m invalid syntax\n"
          ]
        }
      ]
    },
    {
      "cell_type": "markdown",
      "source": [
        "# **LOAD AND PREPROCESS DATA**"
      ],
      "metadata": {
        "id": "qSVtus5BKbTo"
      },
      "id": "qSVtus5BKbTo"
    },
    {
      "cell_type": "code",
      "source": [
        "inputs, target, label_encoders = data_preprocessing.load_and_preprocess_data(\"/content/sample_data/AyurMed.csv\")"
      ],
      "metadata": {
        "colab": {
          "base_uri": "https://localhost:8080/",
          "height": 164
        },
        "id": "pHdtavy7Kgzh",
        "outputId": "75adcdc0-1f87-43a9-8381-ac9110597ff3"
      },
      "id": "pHdtavy7Kgzh",
      "execution_count": null,
      "outputs": [
        {
          "output_type": "error",
          "ename": "NameError",
          "evalue": "name 'data_preprocessing' is not defined",
          "traceback": [
            "\u001b[0;31m---------------------------------------------------------------------------\u001b[0m",
            "\u001b[0;31mNameError\u001b[0m                                 Traceback (most recent call last)",
            "\u001b[0;32m<ipython-input-16-739953d35526>\u001b[0m in \u001b[0;36m<cell line: 1>\u001b[0;34m()\u001b[0m\n\u001b[0;32m----> 1\u001b[0;31m \u001b[0minputs\u001b[0m\u001b[0;34m,\u001b[0m \u001b[0mtarget\u001b[0m\u001b[0;34m,\u001b[0m \u001b[0mlabel_encoders\u001b[0m \u001b[0;34m=\u001b[0m \u001b[0mdata_preprocessing\u001b[0m\u001b[0;34m.\u001b[0m\u001b[0mload_and_preprocess_data\u001b[0m\u001b[0;34m(\u001b[0m\u001b[0;34m\"/content/sample_data/AyurMed.csv\"\u001b[0m\u001b[0;34m)\u001b[0m\u001b[0;34m\u001b[0m\u001b[0;34m\u001b[0m\u001b[0m\n\u001b[0m",
            "\u001b[0;31mNameError\u001b[0m: name 'data_preprocessing' is not defined"
          ]
        }
      ]
    },
    {
      "cell_type": "markdown",
      "source": [
        "# **TRAIN THE MODEL**"
      ],
      "metadata": {
        "id": "ZiofEYnPKoNc"
      },
      "id": "ZiofEYnPKoNc"
    },
    {
      "cell_type": "code",
      "source": [
        "AyurMed = train_model(inputs, target)"
      ],
      "metadata": {
        "id": "x5saW0PYKrN1"
      },
      "id": "x5saW0PYKrN1",
      "execution_count": null,
      "outputs": []
    },
    {
      "cell_type": "markdown",
      "source": [
        "# **MAKE PREDICTION**"
      ],
      "metadata": {
        "id": "wrRfYRJEKssN"
      },
      "id": "wrRfYRJEKssN"
    },
    {
      "cell_type": "code",
      "source": [
        "remedy = predict(AyurMed, new_data, label_encoders)\n",
        "print('The treatment is :', remedy[0])"
      ],
      "metadata": {
        "id": "LRCSaQQyKvyf"
      },
      "id": "LRCSaQQyKvyf",
      "execution_count": null,
      "outputs": []
    },
    {
      "cell_type": "markdown",
      "source": [
        "# **PLOT FEATURE**"
      ],
      "metadata": {
        "id": "1nnkn5t8KxlW"
      },
      "id": "1nnkn5t8KxlW"
    },
    {
      "cell_type": "code",
      "source": [
        "plot_feature_importance(AyurMed)"
      ],
      "metadata": {
        "id": "nPT5u7CdK0U8"
      },
      "id": "nPT5u7CdK0U8",
      "execution_count": null,
      "outputs": []
    }
  ],
  "metadata": {
    "kernelspec": {
      "display_name": "Python 3 (ipykernel)",
      "language": "python",
      "name": "python3"
    },
    "language_info": {
      "codemirror_mode": {
        "name": "ipython",
        "version": 3
      },
      "file_extension": ".py",
      "mimetype": "text/x-python",
      "name": "python",
      "nbconvert_exporter": "python",
      "pygments_lexer": "ipython3",
      "version": "3.11.5"
    },
    "colab": {
      "provenance": [],
      "include_colab_link": true
    }
  },
  "nbformat": 4,
  "nbformat_minor": 5
}