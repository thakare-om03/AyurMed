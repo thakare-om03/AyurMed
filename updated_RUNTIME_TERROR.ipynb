{
  "cells": [
    {
      "cell_type": "markdown",
      "metadata": {
        "id": "view-in-github",
        "colab_type": "text"
      },
      "source": [
        "<a href=\"https://colab.research.google.com/github/thakare-om03/AyurMed/blob/main/updated_RUNTIME_TERROR.ipynb\" target=\"_parent\"><img src=\"https://colab.research.google.com/assets/colab-badge.svg\" alt=\"Open In Colab\"/></a>"
      ]
    },
    {
      "cell_type": "markdown",
      "source": [
        "# **IMPORT NECESSARY LIBRARIES**"
      ],
      "metadata": {
        "id": "NCq6lMrNKFCx"
      },
      "id": "NCq6lMrNKFCx"
    },
    {
      "cell_type": "code",
      "source": [
        "import pandas as pd\n",
        "from sklearn.preprocessing import LabelEncoder\n",
        "from xgboost import XGBClassifier\n",
        "import matplotlib.pyplot as plt\n",
        "import sys\n",
        "#sys.path.append('/path/to/data_preprocessing')\n",
        "#import data_preprocessing"
      ],
      "metadata": {
        "id": "6mY8iprbKLHl"
      },
      "id": "6mY8iprbKLHl",
      "execution_count": null,
      "outputs": []
    },
    {
      "cell_type": "markdown",
      "source": [
        "# **DEFINE** **FUNCTIONS**"
      ],
      "metadata": {
        "id": "Ju5SqJ8lKOJx"
      },
      "id": "Ju5SqJ8lKOJx"
    },
    {
      "cell_type": "code",
      "source": [
        "csv_filepath=(\"/content/sample_data/AyurMed.csv\")\n",
        "def load_and_preprocess_data(csv_file_path):\n",
        "    try:\n",
        "        # Load data\n",
        "        AyuData = pd.read_csv(csv_file_path)\n",
        "\n",
        "        # Label encoding for categorical features\n",
        "        label_encoders = {}\n",
        "        categorical_features = ['Disease', 'gender', 'diabetic', 'prakruti', 'remedies']\n",
        "\n",
        "        for feature in categorical_features:\n",
        "            label_encoders[feature] = LabelEncoder()\n",
        "            AyuData[feature] = label_encoders[feature].fit_transform(AyuData[feature])\n",
        "\n",
        "        # Convert 'age' column to numeric\n",
        "        AyuData['age'] = pd.to_numeric(AyuData['age'], errors='coerce')\n",
        "\n",
        "        # Separate inputs and target\n",
        "        inputs = AyuData.drop(['symptoms', 'remedy type', 'remedies'], axis=1)\n",
        "        target = AyuData['remedies']\n",
        "\n",
        "        return inputs, target, label_encoders\n",
        "\n",
        "    except FileNotFoundError:\n",
        "        print(\"Error: File not found.\")\n",
        "        return None, None, None\n",
        "\n",
        "    except Exception as e:\n",
        "        print(f\"An error occurred: {e}\")\n",
        "        return None, None, None\n",
        "\n",
        "def train_model(inputs, target):\n",
        "    model = XGBClassifier(\n",
        "        objective=\"multi:softmax\",\n",
        "        max_depth=None,\n",
        "        learning_rate=0.1,\n",
        "        n_estimators=50\n",
        "    )\n",
        "    model.fit(inputs, target)\n",
        "    return model\n",
        "\n",
        "def predict(model, new_data, label_encoders):\n",
        "    # Transform categorical features using label encoders\n",
        "    for column in ['Disease', 'gender', 'diabetic', 'prakruti']:\n",
        "        new_data[column] = label_encoders[column].transform(new_data[column])\n",
        "\n",
        "    # No need to transform 'age' column\n",
        "\n",
        "    # Predict remedy\n",
        "    prediction = model.predict(new_data)\n",
        "    remedy = label_encoders['remedies'].inverse_transform(prediction)\n",
        "    return remedy\n",
        "\n",
        "def plot_feature_importance(model, inputs):\n",
        "    plt.figure(figsize=(12, 6))\n",
        "    plt.title(\"Feature importance\")\n",
        "    plt.barh(inputs.columns, model.feature_importances_)\n",
        "    plt.show()"
      ],
      "metadata": {
        "id": "Yd8I7uKBKVqC"
      },
      "id": "Yd8I7uKBKVqC",
      "execution_count": null,
      "outputs": []
    },
    {
      "cell_type": "markdown",
      "source": [
        "# **LOAD AND PREPROCESS DATA**"
      ],
      "metadata": {
        "id": "qSVtus5BKbTo"
      },
      "id": "qSVtus5BKbTo"
    },
    {
      "cell_type": "code",
      "source": [
        "inputs, target, label_encoders = load_and_preprocess_data(\"/content/AyurvedaData.csv\")"
      ],
      "metadata": {
        "id": "pHdtavy7Kgzh"
      },
      "id": "pHdtavy7Kgzh",
      "execution_count": null,
      "outputs": []
    },
    {
      "cell_type": "markdown",
      "source": [
        "# **TRAIN THE MODEL**"
      ],
      "metadata": {
        "id": "ZiofEYnPKoNc"
      },
      "id": "ZiofEYnPKoNc"
    },
    {
      "cell_type": "code",
      "source": [
        "AyurMed = train_model(inputs, target)"
      ],
      "metadata": {
        "id": "x5saW0PYKrN1"
      },
      "id": "x5saW0PYKrN1",
      "execution_count": null,
      "outputs": []
    },
    {
      "cell_type": "markdown",
      "source": [
        "# **MAKE PREDICTION**"
      ],
      "metadata": {
        "id": "wrRfYRJEKssN"
      },
      "id": "wrRfYRJEKssN"
    },
    {
      "cell_type": "code",
      "source": [
        "new_data = pd.DataFrame({\n",
        "    'Disease': ['cough'],\n",
        "    'gender': ['M'],\n",
        "    'diabetic': ['No'],\n",
        "    'age': [30],\n",
        "    'prakruti': ['Kapha']\n",
        "\n",
        "})\n",
        "remedy = predict(AyurMed, new_data, label_encoders)\n",
        "print('The treatment is :', remedy[0])"
      ],
      "metadata": {
        "id": "LRCSaQQyKvyf",
        "colab": {
          "base_uri": "https://localhost:8080/"
        },
        "outputId": "21173897-fd86-490c-d287-cd58e8803e5a"
      },
      "id": "LRCSaQQyKvyf",
      "execution_count": null,
      "outputs": [
        {
          "output_type": "stream",
          "name": "stdout",
          "text": [
            "The treatment is : Sitopaladi (Cardamom, Cinnamon, Bamboo Manna)\n"
          ]
        }
      ]
    },
    {
      "cell_type": "markdown",
      "source": [
        "# **PLOT FEATURE**"
      ],
      "metadata": {
        "id": "1nnkn5t8KxlW"
      },
      "id": "1nnkn5t8KxlW"
    },
    {
      "cell_type": "code",
      "source": [
        "plot_feature_importance(AyurMed, inputs)"
      ],
      "metadata": {
        "id": "nPT5u7CdK0U8",
        "colab": {
          "base_uri": "https://localhost:8080/",
          "height": 545
        },
        "outputId": "2b0fb08f-ba79-4445-8479-456f5b73bc7e"
      },
      "id": "nPT5u7CdK0U8",
      "execution_count": null,
      "outputs": [
        {
          "output_type": "display_data",
          "data": {
            "text/plain": [
              "<Figure size 1200x600 with 1 Axes>"
            ],
            "image/png": "[encoded data removed]"
          },
          "metadata": {}
        }
      ]
    }
  ],
  "metadata": {
    "kernelspec": {
      "display_name": "Python 3 (ipykernel)",
      "language": "python",
      "name": "python3"
    },
    "language_info": {
      "codemirror_mode": {
        "name": "ipython",
        "version": 3
      },
      "file_extension": ".py",
      "mimetype": "text/x-python",
      "name": "python",
      "nbconvert_exporter": "python",
      "pygments_lexer": "ipython3",
      "version": "3.11.5"
    },
    "colab": {
      "provenance": [],
      "include_colab_link": true
    }
  },
  "nbformat": 4,
  "nbformat_minor": 5
}